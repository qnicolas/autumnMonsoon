{
 "cells": [
  {
   "cell_type": "code",
   "execution_count": 14,
   "metadata": {},
   "outputs": [],
   "source": [
    "import os\n",
    "import glob\n",
    "import time\n",
    "\n",
    "import pandas as pd\n",
    "import numpy as np\n",
    "import xarray as xr\n",
    "from datetime import datetime\n",
    "\n",
    "import warnings"
   ]
  },
  {
   "cell_type": "markdown",
   "metadata": {},
   "source": [
    "# Functions"
   ]
  },
  {
   "cell_type": "code",
   "execution_count": 15,
   "metadata": {},
   "outputs": [],
   "source": [
    "ERA5M_PATH  = \"/global/homes/w/wboos/m3310project/wboos/era5monthlyQuentin/\"\n",
    "ERA5M_PATH2 = \"/global/project/projectdirs/m3310/wboos/era5monthly/\"\n",
    "\n",
    "boxNH = [[-100, -70, 12 , 20],\n",
    "         [-80 , -60, 8  , 16],\n",
    "         [70  , 90 , 2  , 18],\n",
    "         [100 , 120, 8  , 20],\n",
    "         [118 , 140, 4  , 20],\n",
    "         [100 , 110, 0  , 12],\n",
    "        ]\n",
    "\n",
    "boxSH = [[20  , 50 , -20, 0 ],\n",
    "         [-60 , -30, -20, 0 ],\n",
    "        ]\n",
    "\n",
    "boxNH1 = [[b[0]%360,b[1]%360,b[2],b[3]] for b in boxNH]\n",
    "boxSH1 = [[b[0]%360,b[1]%360,b[2],b[3]] for b in boxSH]\n",
    "\n",
    "namesNH = [\"Central America\",\n",
    "           \"Colombia/Venezuela\",\n",
    "           \"South Asia\",\n",
    "           \"Vietnam\",\n",
    "           \"Philippines\",\n",
    "           \"Malaysia\"\n",
    "          ]\n",
    "namesSH = [\"Tanzania\",\n",
    "           \"Brazil\"\n",
    "          ]\n",
    "plots_order=[0,1,2,3,7,6,5,4]"
   ]
  },
  {
   "cell_type": "code",
   "execution_count": 16,
   "metadata": {},
   "outputs": [],
   "source": [
    "#Data extraction from ERA5\n",
    "era5yrs = list(range(1998,2014))\n",
    "\n",
    "def era5_file(year,varid):\n",
    "    \"\"\"return file path to an ERA5 variable for the year 'year'\n",
    "    varid gives the id of the variable in era5\n",
    "        - year : str, \"YYYY\"\n",
    "        - varid : str, eg. \"128_130_t\" for temperature\n",
    "    \"\"\"\n",
    "    try :\n",
    "        fpath = glob.glob(os.path.join(ERA5M_PATH,\"*/e5.*.%s.*.%s*.nc\"%(varid,year)))[0]\n",
    "    except IndexError :\n",
    "        path = \"/global/cscratch1/sd/qnicolas/era5monthly/\"\n",
    "        fpath = glob.glob(os.path.join(path,\"*/e5.*.%s.*.%s*.nc\"%(varid,year)))[0]\n",
    "    return fpath\n",
    "\n",
    "\n",
    "def climatology_era5(varid):\n",
    "    paths = [era5_file(year,varid) for year in era5yrs]\n",
    "    with warnings.catch_warnings():\n",
    "        warnings.simplefilter(\"ignore\",FutureWarning)\n",
    "        ds = xr.open_mfdataset(paths).groupby(\"time.month\").mean(\"time\").compute()\n",
    "        varname = list(ds.data_vars)[0] #get name of the main variable, eg 'T' for temperature\n",
    "        return ds[varname]\n",
    "    \n",
    "def climatology_era5_level(month,varid,level):\n",
    "    paths = [era5_file(year,varid) for year in era5yrs]\n",
    "    with warnings.catch_warnings():\n",
    "        warnings.simplefilter(\"ignore\",FutureWarning)\n",
    "        ds = xr.open_mfdataset(paths).sel(level=level).groupby(\"time.month\").mean(\"time\").compute()\n",
    "        varname = list(ds.data_vars)[0] #get name of the main variable, eg 'T' for temperature\n",
    "        return ds[varname]\n",
    "\n",
    "\n",
    "def region_mean2D(variable,mask,box):\n",
    "    \"\"\"Given a 2D variable (lat, lon), compute a spatial mean within a specified region\n",
    "    defined by a mask, inside a given box\n",
    "        - variable = 3D xarray.dataarray. Dimensions must be named \"latitude\" and \"longitude\"\n",
    "        - mask = 2D xarray.dataarray of 0s and 1s. Must have same grid and dimension names as 'variable'\n",
    "        - box = list of four items, [lon1, lon2, lat1, lat2]\n",
    "    \"\"\"\n",
    "    mask_box = mask.fillna(0).sel(longitude=slice(box[0],box[1]),latitude=slice(box[3],box[2]))\n",
    "    variable_box = variable.fillna(0).sel(longitude=slice(box[0],box[1]),latitude=slice(box[3],box[2]))\n",
    "    maskedvar = variable_box*mask_box\n",
    "    region_mean = maskedvar.fillna(0).sum([\"latitude\",\"longitude\"])/ mask_box.sum([\"latitude\",\"longitude\"])\n",
    "    return region_mean\n",
    "\n",
    "def region_mean2D_trmm(variable,mask,box):\n",
    "    mask_box = mask.fillna(0).sel(longitude=slice(box[0],box[1]),latitude=slice(box[2],box[3]))\n",
    "    variable_box = variable.fillna(0).sel(longitude=slice(box[0],box[1]),latitude=slice(box[2],box[3]))\n",
    "    maskedvar = variable_box*mask_box\n",
    "    region_mean = maskedvar.fillna(0).sum([\"latitude\",\"longitude\"])/ mask_box.sum([\"latitude\",\"longitude\"])\n",
    "    return region_mean\n",
    "\n",
    "\n",
    "    return vartot/len(era5yrs)\n",
    "\n"
   ]
  },
  {
   "cell_type": "markdown",
   "metadata": {},
   "source": [
    "# Masks, data"
   ]
  },
  {
   "cell_type": "code",
   "execution_count": 17,
   "metadata": {},
   "outputs": [],
   "source": [
    "def slide_coord(mask):\n",
    "    \"\"\"Switch the longitude coord from (-180,180) to (0,360) \n",
    "    and change coordinate names from 'LAT1','LON1' to 'latitude' and 'longitude'\"\"\"\n",
    "    mask0=mask.copy()\n",
    "    mask0.coords['longitude'] = mask0.coords['LON1']%360\n",
    "    mask1 = mask0.swap_dims({'LON1': 'longitude'}).rename({'LAT1': 'latitude'})\n",
    "\n",
    "    #Sort the longitude values\n",
    "    sort_inds = {\"longitude\": np.argsort(mask1[\"longitude\"].values)}\n",
    "    mask1 = mask1.isel(**sort_inds)\n",
    "    return mask1\n",
    "\n",
    "masks = xr.open_dataset(\"/global/cscratch1/sd/qnicolas/autumnMonsoonData/winter_rainfall_masks.nc\")\n",
    "##/!\\ temporary change for access on Spin\n",
    "##masks = xr.open_dataset(\"winter_rainfall_masks.nc\")\n",
    "trmm_nh_winter_mask = masks.TRMM_NH_WINTER_MASK.fillna(0.)\n",
    "trmm_sh_winter_mask = masks.TRMM_SH_WINTER_MASK.fillna(0.)\n",
    "\n",
    "\n",
    "## To be modified\n",
    "REFERENCE_GRID = xr.open_dataset(ERA5M_PATH+\"e5.moda.an.pl/e5.moda.an.pl.128_060_pv.ll025sc.1979010100_1979120100.nc\").PV.sel(latitude=slice(50., -50.)).isel(time=0) #to get the era5 grid\n",
    "\n",
    "trmm_nh_winter_mask1 = (slide_coord(trmm_nh_winter_mask).interp_like(REFERENCE_GRID) > 0)*1.\n",
    "trmm_sh_winter_mask1 = (slide_coord(trmm_sh_winter_mask).interp_like(REFERENCE_GRID) > 0)*1.\n",
    "trmm_nh_winter_mask = slide_coord(trmm_nh_winter_mask)\n",
    "trmm_sh_winter_mask = slide_coord(trmm_sh_winter_mask)                     "
   ]
  },
  {
   "cell_type": "code",
   "execution_count": 19,
   "metadata": {},
   "outputs": [
    {
     "name": "stdout",
     "output_type": "stream",
     "text": [
      "5.024801969528198\n"
     ]
    }
   ],
   "source": [
    "t=time.time()\n",
    "cape_seasmean = climatology_era5('128_059_cape')\n",
    "print(time.time()-t)"
   ]
  },
  {
   "cell_type": "markdown",
   "metadata": {},
   "source": [
    "# CAPE values"
   ]
  },
  {
   "cell_type": "code",
   "execution_count": 27,
   "metadata": {},
   "outputs": [
    {
     "name": "stdout",
     "output_type": "stream",
     "text": [
      "                    \u001b[1m  CAPE values in J/kg (ERA5 mean 1998-2013)\u001b[0m\n",
      "Region                       Autumn (AMJ (SH)/ OND(NH)),     Spring (OND (SH)/ AMJ(NH))\n",
      "-------------------------  ------------------------------  ----------------------------\n",
      "Central America                                    719.01                        987.31\n",
      "Colombia/Venezuela                                 819.35                        814.42\n",
      "South Asia                                         473.2                        1389.05\n",
      "Vietnam                                            423.24                       1234.39\n",
      "Philippines                                        632.63                        865.12\n",
      "Malaysia                                           588.61                       1158.02\n",
      "Tanzania                                           399.25                        371.59\n",
      "Brazil                                             315.5                         252.31\n"
     ]
    }
   ],
   "source": [
    "from tabulate import tabulate\n",
    "\n",
    "print(' '*20 + '\\033[1m'+ \"  CAPE values in J/kg (ERA5 mean 1998-2013)\" + '\\033[0m')\n",
    "\n",
    "tab=[]\n",
    "\n",
    "for i,box in enumerate(boxNH1):\n",
    "    cape_autumn_mean = region_mean2D(cape_seasmean.sel(month=slice(10,12)).mean('month'), trmm_nh_winter_mask1, box)\n",
    "    cape_spring_mean = region_mean2D(cape_seasmean.sel(month=slice(4,6)).mean('month'), trmm_nh_winter_mask1, box)\n",
    "    tab.append([namesNH[i], \"%.2f\"%cape_autumn_mean, \"%.2f\"%cape_spring_mean])\n",
    "\n",
    "for i,box in enumerate(boxSH1):\n",
    "    cape_autumn_mean = region_mean2D(cape_seasmean.sel(month=slice(4,6)).mean('month'), trmm_sh_winter_mask1, box)\n",
    "    cape_spring_mean = region_mean2D(cape_seasmean.sel(month=slice(10,12)).mean('month'), trmm_sh_winter_mask1, box)\n",
    "    tab.append([namesSH[i], \"%.2f\"%cape_autumn_mean, \"%.2f\"%cape_spring_mean])\n",
    "\n",
    "\n",
    "print(tabulate(tab, headers=['Region'+' '*17, 'Autumn (AMJ (SH)/ OND(NH)), ','Spring (OND (SH)/ AMJ(NH))']))\n"
   ]
  },
  {
   "cell_type": "code",
   "execution_count": 29,
   "metadata": {},
   "outputs": [
    {
     "name": "stdout",
     "output_type": "stream",
     "text": [
      "                    \u001b[1m  CAPE values in J/kg (ERA5 mean 1998-2013)\u001b[0m\n",
      "Region                       Autumn (May (SH)/ November(NH)),     Spring (November (SH)/ May(NH))\n",
      "-------------------------  -----------------------------------  ---------------------------------\n",
      "Central America                                         631.1                              941.84\n",
      "Colombia/Venezuela                                      781.28                             814.26\n",
      "South Asia                                              426.11                            1636.71\n",
      "Vietnam                                                 452.75                            1328.16\n",
      "Philippines                                             688.73                             952.72\n",
      "Malaysia                                                597.8                             1254.99\n",
      "Tanzania                                                371.74                             394.61\n",
      "Brazil                                                  324.55                             228.99\n"
     ]
    }
   ],
   "source": [
    "from tabulate import tabulate\n",
    "\n",
    "print(' '*20 + '\\033[1m'+ \"  CAPE values in J/kg (ERA5 mean 1998-2013)\" + '\\033[0m')\n",
    "\n",
    "tab=[]\n",
    "\n",
    "for i,box in enumerate(boxNH1):\n",
    "    cape_autumn_mean = region_mean2D(cape_seasmean.sel(month=11), trmm_nh_winter_mask1, box)\n",
    "    cape_spring_mean = region_mean2D(cape_seasmean.sel(month=5), trmm_nh_winter_mask1, box)\n",
    "    tab.append([namesNH[i], \"%.2f\"%cape_autumn_mean, \"%.2f\"%cape_spring_mean])\n",
    "\n",
    "for i,box in enumerate(boxSH1):\n",
    "    cape_autumn_mean = region_mean2D(cape_seasmean.sel(month=5), trmm_sh_winter_mask1, box)\n",
    "    cape_spring_mean = region_mean2D(cape_seasmean.sel(month=11), trmm_sh_winter_mask1, box)\n",
    "    tab.append([namesSH[i], \"%.2f\"%cape_autumn_mean, \"%.2f\"%cape_spring_mean])\n",
    "\n",
    "\n",
    "print(tabulate(tab, headers=['Region'+' '*17, 'Autumn (May (SH)/ November(NH)), ','Spring (November (SH)/ May(NH))']))\n"
   ]
  }
 ],
 "metadata": {
  "kernelspec": {
   "display_name": "ERA5",
   "language": "python",
   "name": "era5"
  },
  "language_info": {
   "codemirror_mode": {
    "name": "ipython",
    "version": 3
   },
   "file_extension": ".py",
   "mimetype": "text/x-python",
   "name": "python",
   "nbconvert_exporter": "python",
   "pygments_lexer": "ipython3",
   "version": "3.7.7"
  },
  "toc-autonumbering": true
 },
 "nbformat": 4,
 "nbformat_minor": 4
}
